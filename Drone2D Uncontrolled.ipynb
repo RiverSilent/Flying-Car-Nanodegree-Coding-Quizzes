{
 "cells": [
  {
   "cell_type": "markdown",
   "metadata": {},
   "source": [
    "## Advancing the state of an uncontrolled (implying the rotors aren't spinning) 2D drone. The drone can move in 2-dimensions (horixontal Y-axis and vertical Z-axis). The two rotors are placed side by side, so that it can rotate about the X-axis (into the plane). We avoid any reactive moment induced."
   ]
  },
  {
   "cell_type": "code",
   "execution_count": 3,
   "metadata": {
    "collapsed": true
   },
   "outputs": [],
   "source": [
    "import numpy as np\n",
    "import matplotlib.pyplot as plt\n",
    "%matplotlib inline"
   ]
  },
  {
   "cell_type": "code",
   "execution_count": 5,
   "metadata": {
    "collapsed": true
   },
   "outputs": [],
   "source": [
    "class Drone2D:\n",
    "    \n",
    "    def __init__(self,k_f=0.1,i=0.1,m=1.0,l=0.15):\n",
    "        \n",
    "        self.k_f = k_f\n",
    "        self.i = i # moment of inertia about the X-axis\n",
    "        self.m = m # mass of the drone\n",
    "        self.l = l # distance of the rotors from the center of mass\n",
    "        \n",
    "        self.omega1 = 0.0\n",
    "        self.omega2 = 0.0\n",
    "        \n",
    "        # State vector\n",
    "        self.X = np.array([0.0,0.0,0.0,0.0,0.0,0.0]) # y,z,phi,y_dot,z_dot,phi_dot\n",
    "        \n",
    "        \n",
    "        \n",
    "    def advance_state(self,dt):\n",
    "        \n",
    "        '''\n",
    "        Function to advance the state of the 2D drone by dt seconds.\n",
    "        '''\n",
    "        \n",
    "        y_dot_dot = 0.0\n",
    "        z_dot_dot = 9.81\n",
    "        phi_dot_dot = 0.0\n",
    "        y_dot = self.X[3]\n",
    "        z_dot = self.X[4]\n",
    "        phi_dot = self.X[5]\n",
    "        \n",
    "        \n",
    "        X_dot = np.array([y_dot,z_dot,phi_dot,y_dot_dot,z_dot_dot,phi_dot_dot])\n",
    "        \n",
    "        delta_X = X_dot * dt\n",
    "        \n",
    "        self.X += delta_X"
   ]
  },
  {
   "cell_type": "markdown",
   "metadata": {},
   "source": [
    "### Plot the trajectory of the drone when it is given a slight velocity along the horizontal Y-axis"
   ]
  },
  {
   "cell_type": "code",
   "execution_count": 6,
   "metadata": {},
   "outputs": [],
   "source": [
    "drone = Drone2D()\n",
    "Y_history = []\n",
    "Z_history = []\n",
    "dt = 0.1\n",
    "\n",
    "# initial horizontal velocity\n",
    "drone.X[3] = 1.0\n",
    "\n",
    "for i in range(100):\n",
    "    Y_history.append(drone.X[0])\n",
    "    Z_history.append(drone.X[1])\n",
    "    drone.advance_state(dt)"
   ]
  },
  {
   "cell_type": "code",
   "execution_count": 7,
   "metadata": {},
   "outputs": [
    {
     "data": {
      "text/plain": [
       "Text(0,0.5,'Vertical position(z)')"
      ]
     },
     "execution_count": 7,
     "metadata": {},
     "output_type": "execute_result"
    },
    {
     "data": {
      "image/png": "[encoded data removed]",
      "text/plain": [
       "<matplotlib.figure.Figure at 0x209fb40b9e8>"
      ]
     },
     "metadata": {},
     "output_type": "display_data"
    }
   ],
   "source": [
    "plt.plot(Y_history,Z_history)\n",
    "plt.gca().invert_yaxis()\n",
    "plt.xlabel(\"Horizontal position(y)\")\n",
    "plt.ylabel(\"Vertical position(z)\")\n"
   ]
  },
  {
   "cell_type": "code",
   "execution_count": null,
   "metadata": {
    "collapsed": true
   },
   "outputs": [],
   "source": []
  }
 ],
 "metadata": {
  "kernelspec": {
   "display_name": "Python 3",
   "language": "python",
   "name": "python3"
  },
  "language_info": {
   "codemirror_mode": {
    "name": "ipython",
    "version": 3
   },
   "file_extension": ".py",
   "mimetype": "text/x-python",
   "name": "python",
   "nbconvert_exporter": "python",
   "pygments_lexer": "ipython3",
   "version": "3.6.3"
  }
 },
 "nbformat": 4,
 "nbformat_minor": 2
}
