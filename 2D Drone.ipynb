{
 "cells": [
  {
   "cell_type": "code",
   "execution_count": 16,
   "metadata": {
    "collapsed": true
   },
   "outputs": [],
   "source": [
    "import numpy as np\n",
    "import matplotlib.pyplot as plt\n",
    "import matplotlib.image as mpimg\n",
    "import math\n",
    "%matplotlib inline"
   ]
  },
  {
   "cell_type": "code",
   "execution_count": 17,
   "metadata": {
    "collapsed": true
   },
   "outputs": [],
   "source": [
    "class Drone2D:\n",
    "    \n",
    "    def __init__(self,\n",
    "                 k_f=0.1,\n",
    "                 m=1.0,\n",
    "                 i_x=0.1,\n",
    "                 l=0.5):\n",
    "        \n",
    "        self.k_f = k_f\n",
    "        self.m = m\n",
    "        self.i_x = i_x\n",
    "        self.l = l\n",
    "        \n",
    "        self.omega1 = 0.0\n",
    "        self.omega2 = 0.0\n",
    "        self.g = 9.81\n",
    "        \n",
    "        # State vector\n",
    "        \n",
    "        self.X = np.array([0.0,0.0,0.0,0.0,0.0,0.0]) # y,z,phi,y_dot,z_dot,phi_dot\n",
    "        \n",
    "    def advance_state_uncontrolled(self,dt):\n",
    "        \n",
    "        '''\n",
    "        Advances the state of an uncontrolled drone (i.e. the rotors aren't spinning)\n",
    "        '''\n",
    "        \n",
    "        z_dot_dot = 9.81\n",
    "        y_dot_dot = 0.0\n",
    "        phi_dot_dot = 0.0\n",
    "        y_dot = self.X[3]\n",
    "        z_dot = self.X[4]\n",
    "        phi_dot = self.X[5]\n",
    "        X_dot = np.array([y_dot,z_dot,phi_dot,y_dot_dot,z_dot_dot,phi_dot_dot])\n",
    "        \n",
    "        delta_X = X_dot * dt\n",
    "        \n",
    "        self.X += delta_X\n",
    "        \n",
    "    def get_thrust_and_moment(self):\n",
    "        '''\n",
    "        Helper function that calculates and returns the total thrust and the moment.\n",
    "        '''\n",
    "        \n",
    "        f1 = self.k_f*(self.omega1**2)\n",
    "        f2 = self.k_f*(self.omega2**2)\n",
    "        \n",
    "        c = f1 + f2 # combined thrust\n",
    "        M_x = (f1 - f2) * self.l\n",
    "        \n",
    "        return c,M_x\n",
    "    \n",
    "    @property\n",
    "    def z_dot_dot(self):\n",
    "        '''\n",
    "        Calculates the net acceleration along the vertical direction.\n",
    "        '''\n",
    "        \n",
    "        phi = self.X[2]\n",
    "        c,m_x = self.get_thrust_and_moment()\n",
    "        vert_acc = self.g - (c*math.cos(phi)/self.m)\n",
    "        \n",
    "        return vert_acc\n",
    "    \n",
    "    @property\n",
    "    def y_dot_dot(self):\n",
    "        '''\n",
    "        Calculates the net lateral acceleration experienced by the drone.\n",
    "        '''\n",
    "        \n",
    "        c,m_x = self.get_thrust_and_moment()\n",
    "        phi = self.X[2]\n",
    "        lat_acc = c*math.sin(phi)/self.m\n",
    "        \n",
    "        return lat_acc\n",
    "    \n",
    "    @property\n",
    "    def phi_dot_dot(self):\n",
    "        '''\n",
    "        Calculates the net angular acceleration experienced by the drone.\n",
    "        '''\n",
    "        \n",
    "        c,m_x = self.get_thrust_and_moment()\n",
    "        ang_acc = m_x/self.i_x\n",
    "        \n",
    "        return ang_acc"
   ]
  },
  {
   "cell_type": "markdown",
   "metadata": {},
   "source": [
    "### Verify trajectory of uncontrolled drone"
   ]
  },
  {
   "cell_type": "code",
   "execution_count": 11,
   "metadata": {},
   "outputs": [
    {
     "data": {
      "text/plain": [
       "Text(0,0.5,'Position Z-axis')"
      ]
     },
     "execution_count": 11,
     "metadata": {},
     "output_type": "execute_result"
    },
    {
     "data": {
      "image/png": "[encoded data removed]",
      "text/plain": [
       "<matplotlib.figure.Figure at 0x1f751198080>"
      ]
     },
     "metadata": {},
     "output_type": "display_data"
    }
   ],
   "source": [
    "drone_uncontrolled = Drone2D()\n",
    "\n",
    "Z_history = []\n",
    "Y_history = []\n",
    "\n",
    "dt = 0.1\n",
    "\n",
    "for i in range(100):\n",
    "    Z_history.append(drone_uncontrolled.X[1])\n",
    "    Y_history.append(drone_uncontrolled.X[0])\n",
    "    drone_uncontrolled.advance_state_uncontrolled(dt)\n",
    "    \n",
    "plt.plot(Y_history,Z_history)\n",
    "plt.gca().invert_yaxis()\n",
    "plt.xlabel(\"Position Y-axis\")\n",
    "plt.ylabel(\"Position Z-axis\")\n",
    "    \n",
    "    \n"
   ]
  },
  {
   "cell_type": "markdown",
   "metadata": {},
   "source": [
    "### Trajectory of the uncontrolled drone given an initial velocity along the Y-axis"
   ]
  },
  {
   "cell_type": "code",
   "execution_count": 12,
   "metadata": {
    "collapsed": true
   },
   "outputs": [],
   "source": [
    "uncontrolled_drone_vel = Drone2D()\n",
    "\n",
    "uncontrolled_drone_vel.X[3] = 1.0\n",
    "\n",
    "Z_history = []\n",
    "Y_history = []\n",
    "dt = 0.1\n",
    "\n",
    "for i in range(100):\n",
    "    Z_history.append(uncontrolled_drone_vel.X[1])\n",
    "    Y_history.append(uncontrolled_drone_vel.X[0])\n",
    "    uncontrolled_drone_vel.advance_state_uncontrolled(dt)\n",
    "    "
   ]
  },
  {
   "cell_type": "code",
   "execution_count": 13,
   "metadata": {},
   "outputs": [
    {
     "data": {
      "image/png": "[encoded data removed]",
      "text/plain": [
       "<matplotlib.figure.Figure at 0x1f7544329b0>"
      ]
     },
     "metadata": {},
     "output_type": "display_data"
    }
   ],
   "source": [
    "plt.plot(Y_history,Z_history)\n",
    "plt.xlabel(\"Position Y-axis\")\n",
    "plt.ylabel(\"Position Z-axis\")\n",
    "plt.gca().invert_yaxis()"
   ]
  },
  {
   "cell_type": "code",
   "execution_count": null,
   "metadata": {
    "collapsed": true
   },
   "outputs": [],
   "source": []
  }
 ],
 "metadata": {
  "kernelspec": {
   "display_name": "Python 3",
   "language": "python",
   "name": "python3"
  },
  "language_info": {
   "codemirror_mode": {
    "name": "ipython",
    "version": 3
   },
   "file_extension": ".py",
   "mimetype": "text/x-python",
   "name": "python",
   "nbconvert_exporter": "python",
   "pygments_lexer": "ipython3",
   "version": "3.6.3"
  }
 },
 "nbformat": 4,
 "nbformat_minor": 2
}
