{
 "cells": [
  {
   "cell_type": "code",
   "execution_count": 3,
   "metadata": {
    "collapsed": true
   },
   "outputs": [],
   "source": [
    "import math"
   ]
  },
  {
   "cell_type": "code",
   "execution_count": 4,
   "metadata": {
    "collapsed": true
   },
   "outputs": [],
   "source": [
    "class CopterClass:\n",
    "    \n",
    "    def __init__(self, k_f=0.1, k_m=0.1, i_z=0.2, m=0.5):\n",
    "        self.k_f = k_f\n",
    "        self.k_m = k_m\n",
    "        self.i_z = i_z\n",
    "        self.m = m\n",
    "        \n",
    "        self.omega1 = 0\n",
    "        self.omega2 = 0\n",
    "        self.g = 9.8\n",
    "        \n",
    "    @property\n",
    "    def z_dot_dot(self):\n",
    "        '''\n",
    "        Calculates the vertical acceleration of the drone\n",
    "        '''\n",
    "        force_rotor1 = self.k_f*(self.omega1**2)\n",
    "        force_rotor2 = self.k_f*(self.omega2**2)\n",
    "        upward_thrust = force_rotor1 + force_rotor2\n",
    "        \n",
    "        net_force = self.m*self.g - upward_thrust\n",
    "        acceleration = net_force/self.m\n",
    "        \n",
    "        return acceleration\n",
    "    \n",
    "    @property\n",
    "    def psi_dot_dot(self):\n",
    "        '''\n",
    "        Calculates the net angular acceleration of the drone.\n",
    "        '''\n",
    "        moment_rotor1 = self.k_m*(self.omega1**2)\n",
    "        moment_rotor2 = self.k_m*(self.omega2**2)\n",
    "        total_moment = moment_rotor1 + moment_rotor2\n",
    "        \n",
    "        angular_acceleration = total_moment/self.i_z\n",
    "        return angular_acceleration\n",
    "    \n",
    "    def set_rotors_angular_velocities(self,linear_acc,angular_acc):\n",
    "        '''\n",
    "        Set the turn rates of the two rotors so that the drone achieves the required linear and angular acceleration.\n",
    "        '''\n",
    "        \n",
    "        omega1_squared = 0.5*((((self.g-linear_acc)*self.m)/self.k_f) - ((self.i_z*angular_acc)/self.k_m))\n",
    "        omega2_squared = 0.5*((((self.g-linear_acc)*self.m)/self.k_f) + ((self.i_z*angular_acc)/self.k_m))\n",
    "        \n",
    "        self.omega1 = math.sqrt(omega1_squared)\n",
    "        self.omega2 = math.sqrt(omega2_squared)\n",
    "        \n",
    "        return self.omega1, self.omega2"
   ]
  },
  {
   "cell_type": "code",
   "execution_count": null,
   "metadata": {
    "collapsed": true
   },
   "outputs": [],
   "source": []
  }
 ],
 "metadata": {
  "kernelspec": {
   "display_name": "Python 3",
   "language": "python",
   "name": "python3"
  },
  "language_info": {
   "codemirror_mode": {
    "name": "ipython",
    "version": 3
   },
   "file_extension": ".py",
   "mimetype": "text/x-python",
   "name": "python",
   "nbconvert_exporter": "python",
   "pygments_lexer": "ipython3",
   "version": "3.6.3"
  }
 },
 "nbformat": 4,
 "nbformat_minor": 2
}
