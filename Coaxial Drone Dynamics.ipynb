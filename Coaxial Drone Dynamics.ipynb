{
 "cells": [
  {
   "cell_type": "code",
   "execution_count": 2,
   "metadata": {
    "collapsed": true
   },
   "outputs": [],
   "source": [
    "import math"
   ]
  },
  {
   "cell_type": "code",
   "execution_count": 3,
   "metadata": {
    "collapsed": true
   },
   "outputs": [],
   "source": [
    "class CopterClass:\n",
    "    \n",
    "    def __init__(self, k_f=0.1, k_m=0.1, i_z=0.2, m=0.5):\n",
    "        self.k_f = k_f\n",
    "        self.k_m = k_m\n",
    "        self.i_z = i_z\n",
    "        self.m = m\n",
    "        \n",
    "        self.omega1 = 0  # spins counter-clockwise\n",
    "        self.omega2 = 0  # spins clockwise\n",
    "        self.g = 9.8\n",
    "        \n",
    "    @property\n",
    "    def z_dot_dot(self):\n",
    "        '''\n",
    "        Calculates the vertical acceleration of the drone\n",
    "        '''\n",
    "        force_rotor1 = self.k_f*(self.omega1**2)\n",
    "        force_rotor2 = self.k_f*(self.omega2**2)\n",
    "        upward_thrust = force_rotor1 + force_rotor2\n",
    "        \n",
    "        net_force = self.m*self.g - upward_thrust\n",
    "        acceleration = net_force/self.m\n",
    "        \n",
    "        return acceleration\n",
    "    \n",
    "    @property\n",
    "    def psi_dot_dot(self):\n",
    "        '''\n",
    "        Calculates the net angular acceleration of the drone.\n",
    "        '''\n",
    "        cw_moment = self.k_m*(self.omega1**2)\n",
    "        ccw_moment = self.k_m*(self.omega2**2)\n",
    "        total_moment = ccw_moment - cw_moment\n",
    "        \n",
    "        angular_acceleration = total_moment/self.i_z\n",
    "        return angular_acceleration\n",
    "    \n",
    "    def calculate_rotational_vel(self,lin_acc,ang_acc):\n",
    "        '''\n",
    "        Calculates the rotational velocities of the rotors given the linear accelration and the angular accelration.\n",
    "        '''\n",
    "        term_1 = (self.m/self.k_f)*(self.g-lin_acc)\n",
    "        term_2 = self.i_z*ang_acc/self.k_m\n",
    "        omega1_squared = term_1 - term_2\n",
    "        omega2_squared = term_1 + term_2\n",
    "        \n",
    "        self.omega1 = 0.5*(math.sqrt(omega1_squared))\n",
    "        self.omega2 = 0.5*(math.sqrt(omega2_squared))\n",
    "        \n",
    "        return self.omega1, self.omega2\n",
    "   "
   ]
  },
  {
   "cell_type": "code",
   "execution_count": null,
   "metadata": {
    "collapsed": true
   },
   "outputs": [],
   "source": []
  }
 ],
 "metadata": {
  "kernelspec": {
   "display_name": "Python 3",
   "language": "python",
   "name": "python3"
  },
  "language_info": {
   "codemirror_mode": {
    "name": "ipython",
    "version": 3
   },
   "file_extension": ".py",
   "mimetype": "text/x-python",
   "name": "python",
   "nbconvert_exporter": "python",
   "pygments_lexer": "ipython3",
   "version": "3.6.3"
  }
 },
 "nbformat": 4,
 "nbformat_minor": 2
}
